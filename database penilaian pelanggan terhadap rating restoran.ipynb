{
 "cells": [
  {
   "cell_type": "markdown",
   "id": "10ae7906",
   "metadata": {},
   "source": [
    "Kelompok 5\\n\n",
    "1. 120450105 - Devri Zefanya \\n\n",
    "2. 121450039 - A. RAFI PANGGOM IWARI \\n\n",
    "3. 121450072 - CATHERINE FIRDHASARI MAULINA SINAGA \\n\n",
    "4. 121450081 - ANISA DINI AMALIA \\n\n",
    "5. 121450093 - ANISSA LUTHFI ALIFIA \\n"
   ]
  },
  {
   "cell_type": "code",
   "execution_count": 16,
   "id": "369ed8bc",
   "metadata": {},
   "outputs": [
    {
     "name": "stdout",
     "output_type": "stream",
     "text": [
      "Requirement already satisfied: pymysql in c:\\users\\my asus\\anaconda3\\lib\\site-packages (1.0.3)\n",
      "Collecting ipython-sql\n",
      "  Using cached ipython_sql-0.5.0-py3-none-any.whl (20 kB)\n",
      "Collecting sqlparse\n",
      "  Using cached sqlparse-0.4.4-py3-none-any.whl (41 kB)\n",
      "Collecting sqlalchemy>=2.0\n",
      "  Downloading SQLAlchemy-2.0.15-cp38-cp38-win_amd64.whl (2.0 MB)\n",
      "Requirement already satisfied: six in c:\\users\\my asus\\anaconda3\\lib\\site-packages (from ipython-sql) (1.15.0)\n",
      "Requirement already satisfied: ipython-genutils in c:\\users\\my asus\\anaconda3\\lib\\site-packages (from ipython-sql) (0.2.0)\n",
      "Collecting prettytable\n",
      "  Using cached prettytable-3.7.0-py3-none-any.whl (27 kB)\n",
      "Requirement already satisfied: ipython in c:\\users\\my asus\\anaconda3\\lib\\site-packages (from ipython-sql) (7.19.0)\n",
      "Collecting greenlet!=0.4.17; platform_machine == \"aarch64\" or (platform_machine == \"ppc64le\" or (platform_machine == \"x86_64\" or (platform_machine == \"amd64\" or (platform_machine == \"AMD64\" or (platform_machine == \"win32\" or platform_machine == \"WIN32\")))))\n",
      "  Downloading greenlet-2.0.2-cp38-cp38-win_amd64.whl (192 kB)\n",
      "Collecting typing-extensions>=4.2.0\n",
      "  Downloading typing_extensions-4.6.2-py3-none-any.whl (31 kB)\n",
      "Requirement already satisfied: wcwidth in c:\\users\\my asus\\anaconda3\\lib\\site-packages (from prettytable->ipython-sql) (0.2.5)\n",
      "Requirement already satisfied: prompt-toolkit!=3.0.0,!=3.0.1,<3.1.0,>=2.0.0 in c:\\users\\my asus\\anaconda3\\lib\\site-packages (from ipython->ipython-sql) (3.0.8)\n",
      "Requirement already satisfied: pickleshare in c:\\users\\my asus\\anaconda3\\lib\\site-packages (from ipython->ipython-sql) (0.7.5)\n",
      "Requirement already satisfied: decorator in c:\\users\\my asus\\anaconda3\\lib\\site-packages (from ipython->ipython-sql) (4.4.2)\n",
      "Requirement already satisfied: pygments in c:\\users\\my asus\\anaconda3\\lib\\site-packages (from ipython->ipython-sql) (2.7.2)\n",
      "Requirement already satisfied: traitlets>=4.2 in c:\\users\\my asus\\anaconda3\\lib\\site-packages (from ipython->ipython-sql) (5.0.5)\n",
      "Requirement already satisfied: setuptools>=18.5 in c:\\users\\my asus\\anaconda3\\lib\\site-packages (from ipython->ipython-sql) (50.3.1.post20201107)\n",
      "Requirement already satisfied: backcall in c:\\users\\my asus\\anaconda3\\lib\\site-packages (from ipython->ipython-sql) (0.2.0)\n",
      "Requirement already satisfied: jedi>=0.10 in c:\\users\\my asus\\anaconda3\\lib\\site-packages (from ipython->ipython-sql) (0.17.1)\n",
      "Requirement already satisfied: colorama; sys_platform == \"win32\" in c:\\users\\my asus\\anaconda3\\lib\\site-packages (from ipython->ipython-sql) (0.4.4)\n",
      "Requirement already satisfied: parso<0.8.0,>=0.7.0 in c:\\users\\my asus\\anaconda3\\lib\\site-packages (from jedi>=0.10->ipython->ipython-sql) (0.7.0)\n",
      "Installing collected packages: sqlparse, greenlet, typing-extensions, sqlalchemy, prettytable, ipython-sql\n",
      "  Attempting uninstall: greenlet\n",
      "    Found existing installation: greenlet 0.4.17\n",
      "    Uninstalling greenlet-0.4.17:\n",
      "      Successfully uninstalled greenlet-0.4.17\n",
      "  Attempting uninstall: typing-extensions\n",
      "    Found existing installation: typing-extensions 3.7.4.3\n",
      "    Uninstalling typing-extensions-3.7.4.3:\n",
      "      Successfully uninstalled typing-extensions-3.7.4.3\n",
      "  Attempting uninstall: sqlalchemy\n",
      "    Found existing installation: SQLAlchemy 1.3.20\n",
      "    Uninstalling SQLAlchemy-1.3.20:\n",
      "      Successfully uninstalled SQLAlchemy-1.3.20\n",
      "Successfully installed greenlet-2.0.2 ipython-sql-0.5.0 prettytable-3.7.0 sqlalchemy-2.0.15 sqlparse-0.4.4 typing-extensions-4.6.2\n",
      "Requirement already satisfied: mysqlclient in c:\\users\\my asus\\anaconda3\\lib\\site-packages (2.1.1)\n"
     ]
    }
   ],
   "source": [
    "! pip3 install pymysql\n",
    "! pip3 install ipython-sql\n",
    "! pip3 install mysqlclient"
   ]
  },
  {
   "cell_type": "code",
   "execution_count": 17,
   "id": "0064047b",
   "metadata": {},
   "outputs": [
    {
     "name": "stdout",
     "output_type": "stream",
     "text": [
      "Requirement already satisfied: pandas in c:\\users\\my asus\\anaconda3\\lib\\site-packages (1.1.3)\n",
      "Requirement already satisfied: python-dateutil>=2.7.3 in c:\\users\\my asus\\anaconda3\\lib\\site-packages (from pandas) (2.8.1)\n",
      "Requirement already satisfied: numpy>=1.15.4 in c:\\users\\my asus\\anaconda3\\lib\\site-packages (from pandas) (1.19.2)\n",
      "Requirement already satisfied: pytz>=2017.2 in c:\\users\\my asus\\anaconda3\\lib\\site-packages (from pandas) (2020.1)\n",
      "Requirement already satisfied: six>=1.5 in c:\\users\\my asus\\anaconda3\\lib\\site-packages (from python-dateutil>=2.7.3->pandas) (1.15.0)\n"
     ]
    }
   ],
   "source": [
    "!pip install pandas"
   ]
  },
  {
   "cell_type": "code",
   "execution_count": 19,
   "id": "2c927e0a",
   "metadata": {},
   "outputs": [],
   "source": [
    "# import libraries\n",
    "import os\n",
    "import pymysql\n",
    "import pandas as pd\n",
    "#import mysql.connector"
   ]
  },
  {
   "cell_type": "code",
   "execution_count": 20,
   "id": "91e1accf",
   "metadata": {},
   "outputs": [],
   "source": [
    "db_name = \"test\"\n",
    "db_host = \"localhost\"\n",
    "db_username = \"root\"\n",
    "db_password = \"\""
   ]
  },
  {
   "cell_type": "code",
   "execution_count": 21,
   "id": "992a1f4f",
   "metadata": {},
   "outputs": [
    {
     "name": "stdout",
     "output_type": "stream",
     "text": [
      "Successfully Connected\n"
     ]
    }
   ],
   "source": [
    "\n",
    "try:\n",
    "    conn = pymysql.connect(host = db_host,\n",
    "                          port = int(3306),\n",
    "                          user = 'root',\n",
    "                          passwd = db_password,\n",
    "                          db = db_name)\n",
    "except e:\n",
    "    print(e)\n",
    "    \n",
    "if conn:\n",
    "    print(\"Successfully Connected\")\n",
    "else:\n",
    "    print(\"Error\")\n",
    "    \n",
    "# activate magic function\n",
    "\n",
    "%load_ext sql\n",
    "%sql mysql+mysqldb://root@localhost"
   ]
  },
  {
   "cell_type": "code",
   "execution_count": 22,
   "id": "8aa2bffb",
   "metadata": {},
   "outputs": [
    {
     "name": "stdout",
     "output_type": "stream",
     "text": [
      "The sql extension is already loaded. To reload it, use:\n",
      "  %reload_ext sql\n"
     ]
    }
   ],
   "source": [
    "%load_ext sql\n",
    "%sql mysql+mysqldb://root@localhost\n"
   ]
  },
  {
   "cell_type": "code",
   "execution_count": 113,
   "id": "8eec76ea",
   "metadata": {},
   "outputs": [
    {
     "name": "stdout",
     "output_type": "stream",
     "text": [
      " * mysql+mysqldb://root@localhost\n",
      "18 rows affected.\n"
     ]
    },
    {
     "data": {
      "text/html": [
       "<table>\n",
       "    <thead>\n",
       "        <tr>\n",
       "            <th>Database</th>\n",
       "        </tr>\n",
       "    </thead>\n",
       "    <tbody>\n",
       "        <tr>\n",
       "            <td>apotik</td>\n",
       "        </tr>\n",
       "        <tr>\n",
       "            <td>apotik_base</td>\n",
       "        </tr>\n",
       "        <tr>\n",
       "            <td>belanjageh</td>\n",
       "        </tr>\n",
       "        <tr>\n",
       "            <td>db_dml_lanjutan</td>\n",
       "        </tr>\n",
       "        <tr>\n",
       "            <td>db_join_buku</td>\n",
       "        </tr>\n",
       "        <tr>\n",
       "            <td>db_join_kampus</td>\n",
       "        </tr>\n",
       "        <tr>\n",
       "            <td>information_schema</td>\n",
       "        </tr>\n",
       "        <tr>\n",
       "            <td>kepegawaian</td>\n",
       "        </tr>\n",
       "        <tr>\n",
       "            <td>komik_coba1</td>\n",
       "        </tr>\n",
       "        <tr>\n",
       "            <td>latihan2</td>\n",
       "        </tr>\n",
       "        <tr>\n",
       "            <td>latihan_basdat</td>\n",
       "        </tr>\n",
       "        <tr>\n",
       "            <td>mahasiswa</td>\n",
       "        </tr>\n",
       "        <tr>\n",
       "            <td>mysql</td>\n",
       "        </tr>\n",
       "        <tr>\n",
       "            <td>performance_schema</td>\n",
       "        </tr>\n",
       "        <tr>\n",
       "            <td>phpmyadmin</td>\n",
       "        </tr>\n",
       "        <tr>\n",
       "            <td>test</td>\n",
       "        </tr>\n",
       "        <tr>\n",
       "            <td>tubes</td>\n",
       "        </tr>\n",
       "        <tr>\n",
       "            <td>ujian</td>\n",
       "        </tr>\n",
       "    </tbody>\n",
       "</table>"
      ],
      "text/plain": [
       "[('apotik',),\n",
       " ('apotik_base',),\n",
       " ('belanjageh',),\n",
       " ('db_dml_lanjutan',),\n",
       " ('db_join_buku',),\n",
       " ('db_join_kampus',),\n",
       " ('information_schema',),\n",
       " ('kepegawaian',),\n",
       " ('komik_coba1',),\n",
       " ('latihan2',),\n",
       " ('latihan_basdat',),\n",
       " ('mahasiswa',),\n",
       " ('mysql',),\n",
       " ('performance_schema',),\n",
       " ('phpmyadmin',),\n",
       " ('test',),\n",
       " ('tubes',),\n",
       " ('ujian',)]"
      ]
     },
     "execution_count": 113,
     "metadata": {},
     "output_type": "execute_result"
    }
   ],
   "source": [
    "%sql SHOW DATABASES;"
   ]
  },
  {
   "cell_type": "code",
   "execution_count": 24,
   "id": "be9421c7",
   "metadata": {},
   "outputs": [
    {
     "name": "stdout",
     "output_type": "stream",
     "text": [
      " * mysql+mysqldb://root@localhost\n",
      "1 rows affected.\n"
     ]
    },
    {
     "data": {
      "text/plain": [
       "[]"
      ]
     },
     "execution_count": 24,
     "metadata": {},
     "output_type": "execute_result"
    }
   ],
   "source": [
    "%sql create database tubes;"
   ]
  },
  {
   "cell_type": "code",
   "execution_count": 25,
   "id": "3996f71c",
   "metadata": {},
   "outputs": [
    {
     "name": "stdout",
     "output_type": "stream",
     "text": [
      " * mysql+mysqldb://root@localhost\n",
      "0 rows affected.\n"
     ]
    },
    {
     "data": {
      "text/plain": [
       "[]"
      ]
     },
     "execution_count": 25,
     "metadata": {},
     "output_type": "execute_result"
    }
   ],
   "source": [
    "%sql use tubes;"
   ]
  },
  {
   "cell_type": "code",
   "execution_count": 26,
   "id": "5eb6e336",
   "metadata": {},
   "outputs": [
    {
     "name": "stdout",
     "output_type": "stream",
     "text": [
      " * mysql+mysqldb://root@localhost\n",
      "3 rows affected.\n"
     ]
    },
    {
     "data": {
      "text/html": [
       "<table>\n",
       "    <thead>\n",
       "        <tr>\n",
       "            <th>Tables_in_tubes</th>\n",
       "        </tr>\n",
       "    </thead>\n",
       "    <tbody>\n",
       "        <tr>\n",
       "            <td>pelanggan</td>\n",
       "        </tr>\n",
       "        <tr>\n",
       "            <td>rating</td>\n",
       "        </tr>\n",
       "        <tr>\n",
       "            <td>restoran</td>\n",
       "        </tr>\n",
       "    </tbody>\n",
       "</table>"
      ],
      "text/plain": [
       "[('pelanggan',), ('rating',), ('restoran',)]"
      ]
     },
     "execution_count": 26,
     "metadata": {},
     "output_type": "execute_result"
    }
   ],
   "source": [
    "%sql show tables;"
   ]
  },
  {
   "cell_type": "code",
   "execution_count": 27,
   "id": "fa6cb005",
   "metadata": {},
   "outputs": [
    {
     "name": "stdout",
     "output_type": "stream",
     "text": [
      " * mysql+mysqldb://root@localhost\n",
      "4 rows affected.\n"
     ]
    },
    {
     "data": {
      "text/html": [
       "<table>\n",
       "    <thead>\n",
       "        <tr>\n",
       "            <th>Field</th>\n",
       "            <th>Type</th>\n",
       "            <th>Null</th>\n",
       "            <th>Key</th>\n",
       "            <th>Default</th>\n",
       "            <th>Extra</th>\n",
       "        </tr>\n",
       "    </thead>\n",
       "    <tbody>\n",
       "        <tr>\n",
       "            <td>userID</td>\n",
       "            <td>varchar(20)</td>\n",
       "            <td>NO</td>\n",
       "            <td>PRI</td>\n",
       "            <td>None</td>\n",
       "            <td></td>\n",
       "        </tr>\n",
       "        <tr>\n",
       "            <td>drink_level</td>\n",
       "            <td>varchar(50)</td>\n",
       "            <td>NO</td>\n",
       "            <td></td>\n",
       "            <td>None</td>\n",
       "            <td></td>\n",
       "        </tr>\n",
       "        <tr>\n",
       "            <td>personality</td>\n",
       "            <td>varchar(50)</td>\n",
       "            <td>NO</td>\n",
       "            <td></td>\n",
       "            <td>None</td>\n",
       "            <td></td>\n",
       "        </tr>\n",
       "        <tr>\n",
       "            <td>budget</td>\n",
       "            <td>varchar(50)</td>\n",
       "            <td>NO</td>\n",
       "            <td></td>\n",
       "            <td>None</td>\n",
       "            <td></td>\n",
       "        </tr>\n",
       "    </tbody>\n",
       "</table>"
      ],
      "text/plain": [
       "[('userID', 'varchar(20)', 'NO', 'PRI', None, ''),\n",
       " ('drink_level', 'varchar(50)', 'NO', '', None, ''),\n",
       " ('personality', 'varchar(50)', 'NO', '', None, ''),\n",
       " ('budget', 'varchar(50)', 'NO', '', None, '')]"
      ]
     },
     "execution_count": 27,
     "metadata": {},
     "output_type": "execute_result"
    }
   ],
   "source": [
    "%sql desc pelanggan;\n"
   ]
  },
  {
   "cell_type": "code",
   "execution_count": 28,
   "id": "4d6a32be",
   "metadata": {},
   "outputs": [
    {
     "name": "stdout",
     "output_type": "stream",
     "text": [
      " * mysql+mysqldb://root@localhost\n",
      "3 rows affected.\n"
     ]
    },
    {
     "data": {
      "text/html": [
       "<table>\n",
       "    <thead>\n",
       "        <tr>\n",
       "            <th>Field</th>\n",
       "            <th>Type</th>\n",
       "            <th>Null</th>\n",
       "            <th>Key</th>\n",
       "            <th>Default</th>\n",
       "            <th>Extra</th>\n",
       "        </tr>\n",
       "    </thead>\n",
       "    <tbody>\n",
       "        <tr>\n",
       "            <td>PlaceID</td>\n",
       "            <td>int(20)</td>\n",
       "            <td>NO</td>\n",
       "            <td>PRI</td>\n",
       "            <td>None</td>\n",
       "            <td></td>\n",
       "        </tr>\n",
       "        <tr>\n",
       "            <td>Latitude</td>\n",
       "            <td>int(100)</td>\n",
       "            <td>NO</td>\n",
       "            <td></td>\n",
       "            <td>None</td>\n",
       "            <td></td>\n",
       "        </tr>\n",
       "        <tr>\n",
       "            <td>Name_Place</td>\n",
       "            <td>varchar(100)</td>\n",
       "            <td>NO</td>\n",
       "            <td></td>\n",
       "            <td>None</td>\n",
       "            <td></td>\n",
       "        </tr>\n",
       "    </tbody>\n",
       "</table>"
      ],
      "text/plain": [
       "[('PlaceID', 'int(20)', 'NO', 'PRI', None, ''),\n",
       " ('Latitude', 'int(100)', 'NO', '', None, ''),\n",
       " ('Name_Place', 'varchar(100)', 'NO', '', None, '')]"
      ]
     },
     "execution_count": 28,
     "metadata": {},
     "output_type": "execute_result"
    }
   ],
   "source": [
    "%sql desc restoran;"
   ]
  },
  {
   "cell_type": "code",
   "execution_count": 29,
   "id": "c519fdd6",
   "metadata": {},
   "outputs": [
    {
     "name": "stdout",
     "output_type": "stream",
     "text": [
      " * mysql+mysqldb://root@localhost\n",
      "3 rows affected.\n"
     ]
    },
    {
     "data": {
      "text/html": [
       "<table>\n",
       "    <thead>\n",
       "        <tr>\n",
       "            <th>Field</th>\n",
       "            <th>Type</th>\n",
       "            <th>Null</th>\n",
       "            <th>Key</th>\n",
       "            <th>Default</th>\n",
       "            <th>Extra</th>\n",
       "        </tr>\n",
       "    </thead>\n",
       "    <tbody>\n",
       "        <tr>\n",
       "            <td>userID</td>\n",
       "            <td>varchar(20)</td>\n",
       "            <td>NO</td>\n",
       "            <td></td>\n",
       "            <td>None</td>\n",
       "            <td></td>\n",
       "        </tr>\n",
       "        <tr>\n",
       "            <td>PlaceID</td>\n",
       "            <td>int(20)</td>\n",
       "            <td>NO</td>\n",
       "            <td></td>\n",
       "            <td>None</td>\n",
       "            <td></td>\n",
       "        </tr>\n",
       "        <tr>\n",
       "            <td>rating</td>\n",
       "            <td>int(5)</td>\n",
       "            <td>NO</td>\n",
       "            <td></td>\n",
       "            <td>None</td>\n",
       "            <td></td>\n",
       "        </tr>\n",
       "    </tbody>\n",
       "</table>"
      ],
      "text/plain": [
       "[('userID', 'varchar(20)', 'NO', '', None, ''),\n",
       " ('PlaceID', 'int(20)', 'NO', '', None, ''),\n",
       " ('rating', 'int(5)', 'NO', '', None, '')]"
      ]
     },
     "execution_count": 29,
     "metadata": {},
     "output_type": "execute_result"
    }
   ],
   "source": [
    "%sql desc rating;"
   ]
  },
  {
   "cell_type": "code",
   "execution_count": 31,
   "id": "bca1f350",
   "metadata": {},
   "outputs": [
    {
     "name": "stdout",
     "output_type": "stream",
     "text": [
      " * mysql+mysqldb://root@localhost\n",
      "0 rows affected.\n"
     ]
    },
    {
     "data": {
      "text/plain": [
       "[]"
      ]
     },
     "execution_count": 31,
     "metadata": {},
     "output_type": "execute_result"
    }
   ],
   "source": [
    "%sql alter table rating ADD CONSTRAINT fk_rating_userID FOREIGN KEY (userID) REFERENCES pelanggan (userID);\n"
   ]
  },
  {
   "cell_type": "code",
   "execution_count": 32,
   "id": "faa4e400",
   "metadata": {},
   "outputs": [
    {
     "name": "stdout",
     "output_type": "stream",
     "text": [
      " * mysql+mysqldb://root@localhost\n",
      "0 rows affected.\n"
     ]
    },
    {
     "data": {
      "text/plain": [
       "[]"
      ]
     },
     "execution_count": 32,
     "metadata": {},
     "output_type": "execute_result"
    }
   ],
   "source": [
    "%sql alter table rating ADD CONSTRAINT fk_rating_PlaceID FOREIGN KEY (PlaceID) REFERENCES restoran (PlaceID);"
   ]
  },
  {
   "cell_type": "code",
   "execution_count": 39,
   "id": "943911f3",
   "metadata": {},
   "outputs": [
    {
     "name": "stdout",
     "output_type": "stream",
     "text": [
      " * mysql+mysqldb://root@localhost\n",
      "30 rows affected.\n"
     ]
    },
    {
     "data": {
      "text/html": [
       "<table>\n",
       "    <thead>\n",
       "        <tr>\n",
       "            <th>userID</th>\n",
       "            <th>drink_level</th>\n",
       "            <th>personality</th>\n",
       "            <th>budget</th>\n",
       "        </tr>\n",
       "    </thead>\n",
       "    <tbody>\n",
       "        <tr>\n",
       "            <td>U1001</td>\n",
       "            <td>abstemious</td>\n",
       "            <td>thrifty-protector</td>\n",
       "            <td>medium</td>\n",
       "        </tr>\n",
       "        <tr>\n",
       "            <td>U1002</td>\n",
       "            <td>abstemious</td>\n",
       "            <td>hunter-ostentatious</td>\n",
       "            <td>low</td>\n",
       "        </tr>\n",
       "        <tr>\n",
       "            <td>U1003</td>\n",
       "            <td>social drinker</td>\n",
       "            <td>hard-worker</td>\n",
       "            <td>low</td>\n",
       "        </tr>\n",
       "        <tr>\n",
       "            <td>U1004</td>\n",
       "            <td>abstemious</td>\n",
       "            <td>hard-worker</td>\n",
       "            <td>medium</td>\n",
       "        </tr>\n",
       "        <tr>\n",
       "            <td>U1005</td>\n",
       "            <td>abstemious</td>\n",
       "            <td>thrifty-protector</td>\n",
       "            <td>medium</td>\n",
       "        </tr>\n",
       "        <tr>\n",
       "            <td>U1006</td>\n",
       "            <td>social drinker</td>\n",
       "            <td>hard-worker</td>\n",
       "            <td>medium</td>\n",
       "        </tr>\n",
       "        <tr>\n",
       "            <td>U1007</td>\n",
       "            <td>casual drinker</td>\n",
       "            <td>thrifty-protector</td>\n",
       "            <td>low</td>\n",
       "        </tr>\n",
       "        <tr>\n",
       "            <td>U1008</td>\n",
       "            <td>social drinker</td>\n",
       "            <td>hard-worker</td>\n",
       "            <td>low</td>\n",
       "        </tr>\n",
       "        <tr>\n",
       "            <td>U1009</td>\n",
       "            <td>abstemious</td>\n",
       "            <td>thrifty-protector</td>\n",
       "            <td>medium</td>\n",
       "        </tr>\n",
       "        <tr>\n",
       "            <td>U1010</td>\n",
       "            <td>social drinker</td>\n",
       "            <td>hard-worker</td>\n",
       "            <td>medium</td>\n",
       "        </tr>\n",
       "        <tr>\n",
       "            <td>U1011</td>\n",
       "            <td>abstemious</td>\n",
       "            <td>hard-worker</td>\n",
       "            <td>medium</td>\n",
       "        </tr>\n",
       "        <tr>\n",
       "            <td>U1012</td>\n",
       "            <td>casual drinker</td>\n",
       "            <td>hard-worker</td>\n",
       "            <td>medium</td>\n",
       "        </tr>\n",
       "        <tr>\n",
       "            <td>U1013</td>\n",
       "            <td>abstemious</td>\n",
       "            <td>thrifty-protector</td>\n",
       "            <td>medium</td>\n",
       "        </tr>\n",
       "        <tr>\n",
       "            <td>U1014</td>\n",
       "            <td>abstemious</td>\n",
       "            <td>hard-worker</td>\n",
       "            <td>medium</td>\n",
       "        </tr>\n",
       "        <tr>\n",
       "            <td>U1015</td>\n",
       "            <td>social drinker</td>\n",
       "            <td>thrifty-protector</td>\n",
       "            <td>medium</td>\n",
       "        </tr>\n",
       "        <tr>\n",
       "            <td>U1016</td>\n",
       "            <td>casual drinker</td>\n",
       "            <td>thrifty-protector</td>\n",
       "            <td>medium</td>\n",
       "        </tr>\n",
       "        <tr>\n",
       "            <td>U1017</td>\n",
       "            <td>casual drinker</td>\n",
       "            <td>hunter-ostentatious</td>\n",
       "            <td>medium</td>\n",
       "        </tr>\n",
       "        <tr>\n",
       "            <td>U1018</td>\n",
       "            <td>casual drinker</td>\n",
       "            <td>thrifty-protector</td>\n",
       "            <td>low</td>\n",
       "        </tr>\n",
       "        <tr>\n",
       "            <td>U1019</td>\n",
       "            <td>casual drinker</td>\n",
       "            <td>thrifty-protector</td>\n",
       "            <td>medium</td>\n",
       "        </tr>\n",
       "        <tr>\n",
       "            <td>U1020</td>\n",
       "            <td>abstemious</td>\n",
       "            <td>hard-worker</td>\n",
       "            <td>medium</td>\n",
       "        </tr>\n",
       "        <tr>\n",
       "            <td>U1021</td>\n",
       "            <td>social drinker</td>\n",
       "            <td>hard-worker</td>\n",
       "            <td>medium</td>\n",
       "        </tr>\n",
       "        <tr>\n",
       "            <td>U1022</td>\n",
       "            <td>casual drinker</td>\n",
       "            <td>hard-worker</td>\n",
       "            <td>medium</td>\n",
       "        </tr>\n",
       "        <tr>\n",
       "            <td>U1023</td>\n",
       "            <td>casual drinker</td>\n",
       "            <td>hard-worker</td>\n",
       "            <td>low</td>\n",
       "        </tr>\n",
       "        <tr>\n",
       "            <td>U1024</td>\n",
       "            <td>abstemious</td>\n",
       "            <td>hard-worker</td>\n",
       "            <td>medium</td>\n",
       "        </tr>\n",
       "        <tr>\n",
       "            <td>U1025</td>\n",
       "            <td>social drinker</td>\n",
       "            <td>thrifty-protector</td>\n",
       "            <td>medium</td>\n",
       "        </tr>\n",
       "        <tr>\n",
       "            <td>U1026</td>\n",
       "            <td>abstemious</td>\n",
       "            <td>hunter-ostentatious</td>\n",
       "            <td>medium</td>\n",
       "        </tr>\n",
       "        <tr>\n",
       "            <td>U1027</td>\n",
       "            <td>social drinker</td>\n",
       "            <td>thrifty-protector</td>\n",
       "            <td>low</td>\n",
       "        </tr>\n",
       "        <tr>\n",
       "            <td>U1028</td>\n",
       "            <td>abstemious</td>\n",
       "            <td>hard-worker</td>\n",
       "            <td>medium</td>\n",
       "        </tr>\n",
       "        <tr>\n",
       "            <td>U1029</td>\n",
       "            <td>casual drinker</td>\n",
       "            <td>conformist</td>\n",
       "            <td>low</td>\n",
       "        </tr>\n",
       "        <tr>\n",
       "            <td>U1030</td>\n",
       "            <td>social drinker</td>\n",
       "            <td>hard-worker</td>\n",
       "            <td>low</td>\n",
       "        </tr>\n",
       "    </tbody>\n",
       "</table>"
      ],
      "text/plain": [
       "[('U1001', 'abstemious', 'thrifty-protector', 'medium'),\n",
       " ('U1002', 'abstemious', 'hunter-ostentatious', 'low'),\n",
       " ('U1003', 'social drinker', 'hard-worker', 'low'),\n",
       " ('U1004', 'abstemious', 'hard-worker', 'medium'),\n",
       " ('U1005', 'abstemious', 'thrifty-protector', 'medium'),\n",
       " ('U1006', 'social drinker', 'hard-worker', 'medium'),\n",
       " ('U1007', 'casual drinker', 'thrifty-protector', 'low'),\n",
       " ('U1008', 'social drinker', 'hard-worker', 'low'),\n",
       " ('U1009', 'abstemious', 'thrifty-protector', 'medium'),\n",
       " ('U1010', 'social drinker', 'hard-worker', 'medium'),\n",
       " ('U1011', 'abstemious', 'hard-worker', 'medium'),\n",
       " ('U1012', 'casual drinker', 'hard-worker', 'medium'),\n",
       " ('U1013', 'abstemious', 'thrifty-protector', 'medium'),\n",
       " ('U1014', 'abstemious', 'hard-worker', 'medium'),\n",
       " ('U1015', 'social drinker', 'thrifty-protector', 'medium'),\n",
       " ('U1016', 'casual drinker', 'thrifty-protector', 'medium'),\n",
       " ('U1017', 'casual drinker', 'hunter-ostentatious', 'medium'),\n",
       " ('U1018', 'casual drinker', 'thrifty-protector', 'low'),\n",
       " ('U1019', 'casual drinker', 'thrifty-protector', 'medium'),\n",
       " ('U1020', 'abstemious', 'hard-worker', 'medium'),\n",
       " ('U1021', 'social drinker', 'hard-worker', 'medium'),\n",
       " ('U1022', 'casual drinker', 'hard-worker', 'medium'),\n",
       " ('U1023', 'casual drinker', 'hard-worker', 'low'),\n",
       " ('U1024', 'abstemious', 'hard-worker', 'medium'),\n",
       " ('U1025', 'social drinker', 'thrifty-protector', 'medium'),\n",
       " ('U1026', 'abstemious', 'hunter-ostentatious', 'medium'),\n",
       " ('U1027', 'social drinker', 'thrifty-protector', 'low'),\n",
       " ('U1028', 'abstemious', 'hard-worker', 'medium'),\n",
       " ('U1029', 'casual drinker', 'conformist', 'low'),\n",
       " ('U1030', 'social drinker', 'hard-worker', 'low')]"
      ]
     },
     "execution_count": 39,
     "metadata": {},
     "output_type": "execute_result"
    }
   ],
   "source": [
    "%sql select * from pelanggan;"
   ]
  },
  {
   "cell_type": "code",
   "execution_count": 40,
   "id": "9022bec6",
   "metadata": {},
   "outputs": [
    {
     "name": "stdout",
     "output_type": "stream",
     "text": [
      " * mysql+mysqldb://root@localhost\n",
      "30 rows affected.\n"
     ]
    },
    {
     "data": {
      "text/html": [
       "<table>\n",
       "    <thead>\n",
       "        <tr>\n",
       "            <th>PlaceID</th>\n",
       "            <th>Latitude</th>\n",
       "            <th>Name_Place</th>\n",
       "        </tr>\n",
       "    </thead>\n",
       "    <tbody>\n",
       "        <tr>\n",
       "            <td>132560</td>\n",
       "            <td>238</td>\n",
       "            <td>puesto de gorditas</td>\n",
       "        </tr>\n",
       "        <tr>\n",
       "            <td>132583</td>\n",
       "            <td>1892</td>\n",
       "            <td>McDonalds Centro</td>\n",
       "        </tr>\n",
       "        <tr>\n",
       "            <td>132584</td>\n",
       "            <td>2375</td>\n",
       "            <td>Gorditas Dona Tota</td>\n",
       "        </tr>\n",
       "        <tr>\n",
       "            <td>132594</td>\n",
       "            <td>2375</td>\n",
       "            <td>tacos de barbacoa enfrente del Tec</td>\n",
       "        </tr>\n",
       "        <tr>\n",
       "            <td>132626</td>\n",
       "            <td>2373</td>\n",
       "            <td>la perica hamburguesa</td>\n",
       "        </tr>\n",
       "        <tr>\n",
       "            <td>132654</td>\n",
       "            <td>2373</td>\n",
       "            <td>Carnitas Mata Calle 16 de Septiembre</td>\n",
       "        </tr>\n",
       "        <tr>\n",
       "            <td>132660</td>\n",
       "            <td>2375</td>\n",
       "            <td>carnitas mata calle Emilio Portes Gil</td>\n",
       "        </tr>\n",
       "        <tr>\n",
       "            <td>132663</td>\n",
       "            <td>2375</td>\n",
       "            <td>tacos abi</td>\n",
       "        </tr>\n",
       "        <tr>\n",
       "            <td>132754</td>\n",
       "            <td>2214</td>\n",
       "            <td>Cabana Huasteca</td>\n",
       "        </tr>\n",
       "        <tr>\n",
       "            <td>132755</td>\n",
       "            <td>2215</td>\n",
       "            <td>La Estrella de Dimas</td>\n",
       "        </tr>\n",
       "        <tr>\n",
       "            <td>132766</td>\n",
       "            <td>1891</td>\n",
       "            <td>Mikasa</td>\n",
       "        </tr>\n",
       "        <tr>\n",
       "            <td>132866</td>\n",
       "            <td>2214</td>\n",
       "            <td>Chaires</td>\n",
       "        </tr>\n",
       "        <tr>\n",
       "            <td>132877</td>\n",
       "            <td>2213</td>\n",
       "            <td>sirloin stockade</td>\n",
       "        </tr>\n",
       "        <tr>\n",
       "            <td>132921</td>\n",
       "            <td>2215</td>\n",
       "            <td>crudalia</td>\n",
       "        </tr>\n",
       "        <tr>\n",
       "            <td>134976</td>\n",
       "            <td>1891</td>\n",
       "            <td>Log Yin</td>\n",
       "        </tr>\n",
       "        <tr>\n",
       "            <td>134986</td>\n",
       "            <td>189</td>\n",
       "            <td>Restaurant Las Mananitas</td>\n",
       "        </tr>\n",
       "        <tr>\n",
       "            <td>134996</td>\n",
       "            <td>1892</td>\n",
       "            <td>Sanborns Casa Piedra</td>\n",
       "        </tr>\n",
       "        <tr>\n",
       "            <td>135019</td>\n",
       "            <td>1887</td>\n",
       "            <td>Restaurant Bar Coty y Pablo</td>\n",
       "        </tr>\n",
       "        <tr>\n",
       "            <td>135028</td>\n",
       "            <td>2214</td>\n",
       "            <td>La Virreina</td>\n",
       "        </tr>\n",
       "        <tr>\n",
       "            <td>135032</td>\n",
       "            <td>2215</td>\n",
       "            <td>Cafeteria y Restaurant El Pacifico</td>\n",
       "        </tr>\n",
       "        <tr>\n",
       "            <td>135043</td>\n",
       "            <td>2218</td>\n",
       "            <td>pizza clasica</td>\n",
       "        </tr>\n",
       "        <tr>\n",
       "            <td>135049</td>\n",
       "            <td>2213</td>\n",
       "            <td>Restaurante de Mariscos la Langosta</td>\n",
       "        </tr>\n",
       "        <tr>\n",
       "            <td>135058</td>\n",
       "            <td>2216</td>\n",
       "            <td>Restaurante Tiberius</td>\n",
       "        </tr>\n",
       "        <tr>\n",
       "            <td>135062</td>\n",
       "            <td>222</td>\n",
       "            <td>Restaurante El Cielo Potosino</td>\n",
       "        </tr>\n",
       "        <tr>\n",
       "            <td>135072</td>\n",
       "            <td>2214</td>\n",
       "            <td>Sushi Itto</td>\n",
       "        </tr>\n",
       "        <tr>\n",
       "            <td>135073</td>\n",
       "            <td>2214</td>\n",
       "            <td>Restaurante Bar El Gallinero</td>\n",
       "        </tr>\n",
       "        <tr>\n",
       "            <td>135075</td>\n",
       "            <td>2213</td>\n",
       "            <td>Mariscos El Pescador</td>\n",
       "        </tr>\n",
       "        <tr>\n",
       "            <td>135085</td>\n",
       "            <td>222</td>\n",
       "            <td>Tortas Locas Hipocampo</td>\n",
       "        </tr>\n",
       "        <tr>\n",
       "            <td>135088</td>\n",
       "            <td>1887</td>\n",
       "            <td>Cafeteria cenidet</td>\n",
       "        </tr>\n",
       "        <tr>\n",
       "            <td>135109</td>\n",
       "            <td>1892</td>\n",
       "            <td>Paniroles</td>\n",
       "        </tr>\n",
       "    </tbody>\n",
       "</table>"
      ],
      "text/plain": [
       "[(132560, 238, 'puesto de gorditas'),\n",
       " (132583, 1892, 'McDonalds Centro'),\n",
       " (132584, 2375, 'Gorditas Dona Tota'),\n",
       " (132594, 2375, 'tacos de barbacoa enfrente del Tec'),\n",
       " (132626, 2373, 'la perica hamburguesa'),\n",
       " (132654, 2373, 'Carnitas Mata Calle 16 de Septiembre'),\n",
       " (132660, 2375, 'carnitas mata calle Emilio Portes Gil'),\n",
       " (132663, 2375, 'tacos abi'),\n",
       " (132754, 2214, 'Cabana Huasteca'),\n",
       " (132755, 2215, 'La Estrella de Dimas'),\n",
       " (132766, 1891, 'Mikasa'),\n",
       " (132866, 2214, 'Chaires'),\n",
       " (132877, 2213, 'sirloin stockade'),\n",
       " (132921, 2215, 'crudalia'),\n",
       " (134976, 1891, 'Log Yin'),\n",
       " (134986, 189, 'Restaurant Las Mananitas'),\n",
       " (134996, 1892, 'Sanborns Casa Piedra'),\n",
       " (135019, 1887, 'Restaurant Bar Coty y Pablo'),\n",
       " (135028, 2214, 'La Virreina'),\n",
       " (135032, 2215, 'Cafeteria y Restaurant El Pacifico'),\n",
       " (135043, 2218, 'pizza clasica'),\n",
       " (135049, 2213, 'Restaurante de Mariscos la Langosta'),\n",
       " (135058, 2216, 'Restaurante Tiberius'),\n",
       " (135062, 222, 'Restaurante El Cielo Potosino'),\n",
       " (135072, 2214, 'Sushi Itto'),\n",
       " (135073, 2214, 'Restaurante Bar El Gallinero'),\n",
       " (135075, 2213, 'Mariscos El Pescador'),\n",
       " (135085, 222, 'Tortas Locas Hipocampo'),\n",
       " (135088, 1887, 'Cafeteria cenidet'),\n",
       " (135109, 1892, 'Paniroles')]"
      ]
     },
     "execution_count": 40,
     "metadata": {},
     "output_type": "execute_result"
    }
   ],
   "source": [
    "%sql select * from restoran;"
   ]
  },
  {
   "cell_type": "code",
   "execution_count": 45,
   "id": "ad1fe67b",
   "metadata": {},
   "outputs": [
    {
     "name": "stdout",
     "output_type": "stream",
     "text": [
      " * mysql+mysqldb://root@localhost\n",
      "31 rows affected.\n"
     ]
    },
    {
     "data": {
      "text/plain": [
       "[]"
      ]
     },
     "execution_count": 45,
     "metadata": {},
     "output_type": "execute_result"
    }
   ],
   "source": [
    "%sql UPDATE restoran SET Latitude = NULL;\n"
   ]
  },
  {
   "cell_type": "code",
   "execution_count": 47,
   "id": "3fe0671e",
   "metadata": {},
   "outputs": [
    {
     "name": "stdout",
     "output_type": "stream",
     "text": [
      " * mysql+mysqldb://root@localhost\n",
      "31 rows affected.\n"
     ]
    },
    {
     "data": {
      "text/html": [
       "<table>\n",
       "    <thead>\n",
       "        <tr>\n",
       "            <th>PlaceID</th>\n",
       "            <th>Latitude</th>\n",
       "            <th>Name_Place</th>\n",
       "        </tr>\n",
       "    </thead>\n",
       "    <tbody>\n",
       "        <tr>\n",
       "            <td>0</td>\n",
       "            <td>0</td>\n",
       "            <td></td>\n",
       "        </tr>\n",
       "        <tr>\n",
       "            <td>132560</td>\n",
       "            <td>0</td>\n",
       "            <td>puesto de gorditas</td>\n",
       "        </tr>\n",
       "        <tr>\n",
       "            <td>132583</td>\n",
       "            <td>0</td>\n",
       "            <td>McDonalds Centro</td>\n",
       "        </tr>\n",
       "        <tr>\n",
       "            <td>132584</td>\n",
       "            <td>0</td>\n",
       "            <td>Gorditas Dona Tota</td>\n",
       "        </tr>\n",
       "        <tr>\n",
       "            <td>132594</td>\n",
       "            <td>0</td>\n",
       "            <td>tacos de barbacoa enfrente del Tec</td>\n",
       "        </tr>\n",
       "        <tr>\n",
       "            <td>132626</td>\n",
       "            <td>0</td>\n",
       "            <td>la perica hamburguesa</td>\n",
       "        </tr>\n",
       "        <tr>\n",
       "            <td>132654</td>\n",
       "            <td>0</td>\n",
       "            <td>Carnitas Mata Calle 16 de Septiembre</td>\n",
       "        </tr>\n",
       "        <tr>\n",
       "            <td>132660</td>\n",
       "            <td>0</td>\n",
       "            <td>carnitas mata calle Emilio Portes Gil</td>\n",
       "        </tr>\n",
       "        <tr>\n",
       "            <td>132663</td>\n",
       "            <td>0</td>\n",
       "            <td>tacos abi</td>\n",
       "        </tr>\n",
       "        <tr>\n",
       "            <td>132754</td>\n",
       "            <td>0</td>\n",
       "            <td>Cabana Huasteca</td>\n",
       "        </tr>\n",
       "        <tr>\n",
       "            <td>132755</td>\n",
       "            <td>0</td>\n",
       "            <td>La Estrella de Dimas</td>\n",
       "        </tr>\n",
       "        <tr>\n",
       "            <td>132766</td>\n",
       "            <td>0</td>\n",
       "            <td>Mikasa</td>\n",
       "        </tr>\n",
       "        <tr>\n",
       "            <td>132866</td>\n",
       "            <td>0</td>\n",
       "            <td>Chaires</td>\n",
       "        </tr>\n",
       "        <tr>\n",
       "            <td>132877</td>\n",
       "            <td>0</td>\n",
       "            <td>sirloin stockade</td>\n",
       "        </tr>\n",
       "        <tr>\n",
       "            <td>132921</td>\n",
       "            <td>0</td>\n",
       "            <td>crudalia</td>\n",
       "        </tr>\n",
       "        <tr>\n",
       "            <td>134976</td>\n",
       "            <td>0</td>\n",
       "            <td>Log Yin</td>\n",
       "        </tr>\n",
       "        <tr>\n",
       "            <td>134986</td>\n",
       "            <td>0</td>\n",
       "            <td>Restaurant Las Mananitas</td>\n",
       "        </tr>\n",
       "        <tr>\n",
       "            <td>134996</td>\n",
       "            <td>0</td>\n",
       "            <td>Sanborns Casa Piedra</td>\n",
       "        </tr>\n",
       "        <tr>\n",
       "            <td>135019</td>\n",
       "            <td>0</td>\n",
       "            <td>Restaurant Bar Coty y Pablo</td>\n",
       "        </tr>\n",
       "        <tr>\n",
       "            <td>135028</td>\n",
       "            <td>0</td>\n",
       "            <td>La Virreina</td>\n",
       "        </tr>\n",
       "        <tr>\n",
       "            <td>135032</td>\n",
       "            <td>0</td>\n",
       "            <td>Cafeteria y Restaurant El Pacifico</td>\n",
       "        </tr>\n",
       "        <tr>\n",
       "            <td>135043</td>\n",
       "            <td>0</td>\n",
       "            <td>pizza clasica</td>\n",
       "        </tr>\n",
       "        <tr>\n",
       "            <td>135049</td>\n",
       "            <td>0</td>\n",
       "            <td>Restaurante de Mariscos la Langosta</td>\n",
       "        </tr>\n",
       "        <tr>\n",
       "            <td>135058</td>\n",
       "            <td>0</td>\n",
       "            <td>Restaurante Tiberius</td>\n",
       "        </tr>\n",
       "        <tr>\n",
       "            <td>135062</td>\n",
       "            <td>0</td>\n",
       "            <td>Restaurante El Cielo Potosino</td>\n",
       "        </tr>\n",
       "        <tr>\n",
       "            <td>135072</td>\n",
       "            <td>0</td>\n",
       "            <td>Sushi Itto</td>\n",
       "        </tr>\n",
       "        <tr>\n",
       "            <td>135073</td>\n",
       "            <td>0</td>\n",
       "            <td>Restaurante Bar El Gallinero</td>\n",
       "        </tr>\n",
       "        <tr>\n",
       "            <td>135075</td>\n",
       "            <td>0</td>\n",
       "            <td>Mariscos El Pescador</td>\n",
       "        </tr>\n",
       "        <tr>\n",
       "            <td>135085</td>\n",
       "            <td>0</td>\n",
       "            <td>Tortas Locas Hipocampo</td>\n",
       "        </tr>\n",
       "        <tr>\n",
       "            <td>135088</td>\n",
       "            <td>0</td>\n",
       "            <td>Cafeteria cenidet</td>\n",
       "        </tr>\n",
       "        <tr>\n",
       "            <td>135109</td>\n",
       "            <td>0</td>\n",
       "            <td>Paniroles</td>\n",
       "        </tr>\n",
       "    </tbody>\n",
       "</table>"
      ],
      "text/plain": [
       "[(0, 0, ''),\n",
       " (132560, 0, 'puesto de gorditas'),\n",
       " (132583, 0, 'McDonalds Centro'),\n",
       " (132584, 0, 'Gorditas Dona Tota'),\n",
       " (132594, 0, 'tacos de barbacoa enfrente del Tec'),\n",
       " (132626, 0, 'la perica hamburguesa'),\n",
       " (132654, 0, 'Carnitas Mata Calle 16 de Septiembre'),\n",
       " (132660, 0, 'carnitas mata calle Emilio Portes Gil'),\n",
       " (132663, 0, 'tacos abi'),\n",
       " (132754, 0, 'Cabana Huasteca'),\n",
       " (132755, 0, 'La Estrella de Dimas'),\n",
       " (132766, 0, 'Mikasa'),\n",
       " (132866, 0, 'Chaires'),\n",
       " (132877, 0, 'sirloin stockade'),\n",
       " (132921, 0, 'crudalia'),\n",
       " (134976, 0, 'Log Yin'),\n",
       " (134986, 0, 'Restaurant Las Mananitas'),\n",
       " (134996, 0, 'Sanborns Casa Piedra'),\n",
       " (135019, 0, 'Restaurant Bar Coty y Pablo'),\n",
       " (135028, 0, 'La Virreina'),\n",
       " (135032, 0, 'Cafeteria y Restaurant El Pacifico'),\n",
       " (135043, 0, 'pizza clasica'),\n",
       " (135049, 0, 'Restaurante de Mariscos la Langosta'),\n",
       " (135058, 0, 'Restaurante Tiberius'),\n",
       " (135062, 0, 'Restaurante El Cielo Potosino'),\n",
       " (135072, 0, 'Sushi Itto'),\n",
       " (135073, 0, 'Restaurante Bar El Gallinero'),\n",
       " (135075, 0, 'Mariscos El Pescador'),\n",
       " (135085, 0, 'Tortas Locas Hipocampo'),\n",
       " (135088, 0, 'Cafeteria cenidet'),\n",
       " (135109, 0, 'Paniroles')]"
      ]
     },
     "execution_count": 47,
     "metadata": {},
     "output_type": "execute_result"
    }
   ],
   "source": [
    "%sql select * from restoran;"
   ]
  },
  {
   "cell_type": "code",
   "execution_count": 48,
   "id": "ec219640",
   "metadata": {},
   "outputs": [
    {
     "name": "stdout",
     "output_type": "stream",
     "text": [
      " * mysql+mysqldb://root@localhost\n",
      "31 rows affected.\n"
     ]
    },
    {
     "data": {
      "text/plain": [
       "[]"
      ]
     },
     "execution_count": 48,
     "metadata": {},
     "output_type": "execute_result"
    }
   ],
   "source": [
    "%sql delete from restoran;"
   ]
  },
  {
   "cell_type": "code",
   "execution_count": 50,
   "id": "6d49634b",
   "metadata": {},
   "outputs": [
    {
     "name": "stdout",
     "output_type": "stream",
     "text": [
      " * mysql+mysqldb://root@localhost\n",
      "30 rows affected.\n"
     ]
    },
    {
     "data": {
      "text/html": [
       "<table>\n",
       "    <thead>\n",
       "        <tr>\n",
       "            <th>PlaceID</th>\n",
       "            <th>Latitude</th>\n",
       "            <th>Name_Place</th>\n",
       "        </tr>\n",
       "    </thead>\n",
       "    <tbody>\n",
       "        <tr>\n",
       "            <td>132560</td>\n",
       "            <td>237523</td>\n",
       "            <td>puesto de gorditas</td>\n",
       "        </tr>\n",
       "        <tr>\n",
       "            <td>132583</td>\n",
       "            <td>1892229</td>\n",
       "            <td>McDonalds Centro</td>\n",
       "        </tr>\n",
       "        <tr>\n",
       "            <td>132584</td>\n",
       "            <td>2375236</td>\n",
       "            <td>Gorditas Dona Tota</td>\n",
       "        </tr>\n",
       "        <tr>\n",
       "            <td>132594</td>\n",
       "            <td>2375217</td>\n",
       "            <td>tacos de barbacoa enfrente del Tec</td>\n",
       "        </tr>\n",
       "        <tr>\n",
       "            <td>132626</td>\n",
       "            <td>2373758</td>\n",
       "            <td>la perica hamburguesa</td>\n",
       "        </tr>\n",
       "        <tr>\n",
       "            <td>132654</td>\n",
       "            <td>2373552</td>\n",
       "            <td>Carnitas Mata Calle 16 de Septiembre</td>\n",
       "        </tr>\n",
       "        <tr>\n",
       "            <td>132660</td>\n",
       "            <td>2375294</td>\n",
       "            <td>carnitas mata calle Emilio Portes Gil</td>\n",
       "        </tr>\n",
       "        <tr>\n",
       "            <td>132663</td>\n",
       "            <td>2375251</td>\n",
       "            <td>tacos abi</td>\n",
       "        </tr>\n",
       "        <tr>\n",
       "            <td>132754</td>\n",
       "            <td>2214774</td>\n",
       "            <td>Cabana Huasteca</td>\n",
       "        </tr>\n",
       "        <tr>\n",
       "            <td>132755</td>\n",
       "            <td>2215332</td>\n",
       "            <td>La Estrella de Dimas</td>\n",
       "        </tr>\n",
       "        <tr>\n",
       "            <td>132766</td>\n",
       "            <td>1891018</td>\n",
       "            <td>Mikasa</td>\n",
       "        </tr>\n",
       "        <tr>\n",
       "            <td>132866</td>\n",
       "            <td>2214122</td>\n",
       "            <td>Chaires</td>\n",
       "        </tr>\n",
       "        <tr>\n",
       "            <td>132877</td>\n",
       "            <td>2213536</td>\n",
       "            <td>sirloin stockade</td>\n",
       "        </tr>\n",
       "        <tr>\n",
       "            <td>132921</td>\n",
       "            <td>2215031</td>\n",
       "            <td>crudalia</td>\n",
       "        </tr>\n",
       "        <tr>\n",
       "            <td>134976</td>\n",
       "            <td>1891665</td>\n",
       "            <td>Log Yin</td>\n",
       "        </tr>\n",
       "        <tr>\n",
       "            <td>134986</td>\n",
       "            <td>189288</td>\n",
       "            <td>Restaurant Las Mananitas</td>\n",
       "        </tr>\n",
       "        <tr>\n",
       "            <td>134996</td>\n",
       "            <td>1892343</td>\n",
       "            <td>Sanborns Casa Piedra</td>\n",
       "        </tr>\n",
       "        <tr>\n",
       "            <td>135019</td>\n",
       "            <td>1887501</td>\n",
       "            <td>Restaurant Bar Coty y Pablo</td>\n",
       "        </tr>\n",
       "        <tr>\n",
       "            <td>135028</td>\n",
       "            <td>2214666</td>\n",
       "            <td>La Virreina</td>\n",
       "        </tr>\n",
       "        <tr>\n",
       "            <td>135032</td>\n",
       "            <td>2215248</td>\n",
       "            <td>Cafeteria y Restaurant El Pacifico</td>\n",
       "        </tr>\n",
       "        <tr>\n",
       "            <td>135043</td>\n",
       "            <td>2218576</td>\n",
       "            <td>pizza clasica</td>\n",
       "        </tr>\n",
       "        <tr>\n",
       "            <td>135049</td>\n",
       "            <td>2213501</td>\n",
       "            <td>Restaurante de Mariscos la Langosta</td>\n",
       "        </tr>\n",
       "        <tr>\n",
       "            <td>135058</td>\n",
       "            <td>2216559</td>\n",
       "            <td>Restaurante Tiberius</td>\n",
       "        </tr>\n",
       "        <tr>\n",
       "            <td>135062</td>\n",
       "            <td>221537</td>\n",
       "            <td>Restaurante El Cielo Potosino</td>\n",
       "        </tr>\n",
       "        <tr>\n",
       "            <td>135072</td>\n",
       "            <td>2214919</td>\n",
       "            <td>Sushi Itto</td>\n",
       "        </tr>\n",
       "        <tr>\n",
       "            <td>135073</td>\n",
       "            <td>2214718</td>\n",
       "            <td>Restaurante Bar El Gallinero</td>\n",
       "        </tr>\n",
       "        <tr>\n",
       "            <td>135075</td>\n",
       "            <td>2213957</td>\n",
       "            <td>Mariscos El Pescador</td>\n",
       "        </tr>\n",
       "        <tr>\n",
       "            <td>135085</td>\n",
       "            <td>221508</td>\n",
       "            <td>Tortas Locas Hipocampo</td>\n",
       "        </tr>\n",
       "        <tr>\n",
       "            <td>135088</td>\n",
       "            <td>1887601</td>\n",
       "            <td>Cafeteria cenidet</td>\n",
       "        </tr>\n",
       "        <tr>\n",
       "            <td>135109</td>\n",
       "            <td>1892178</td>\n",
       "            <td>Paniroles</td>\n",
       "        </tr>\n",
       "    </tbody>\n",
       "</table>"
      ],
      "text/plain": [
       "[(132560, 237523, 'puesto de gorditas'),\n",
       " (132583, 1892229, 'McDonalds Centro'),\n",
       " (132584, 2375236, 'Gorditas Dona Tota'),\n",
       " (132594, 2375217, 'tacos de barbacoa enfrente del Tec'),\n",
       " (132626, 2373758, 'la perica hamburguesa'),\n",
       " (132654, 2373552, 'Carnitas Mata Calle 16 de Septiembre'),\n",
       " (132660, 2375294, 'carnitas mata calle Emilio Portes Gil'),\n",
       " (132663, 2375251, 'tacos abi'),\n",
       " (132754, 2214774, 'Cabana Huasteca'),\n",
       " (132755, 2215332, 'La Estrella de Dimas'),\n",
       " (132766, 1891018, 'Mikasa'),\n",
       " (132866, 2214122, 'Chaires'),\n",
       " (132877, 2213536, 'sirloin stockade'),\n",
       " (132921, 2215031, 'crudalia'),\n",
       " (134976, 1891665, 'Log Yin'),\n",
       " (134986, 189288, 'Restaurant Las Mananitas'),\n",
       " (134996, 1892343, 'Sanborns Casa Piedra'),\n",
       " (135019, 1887501, 'Restaurant Bar Coty y Pablo'),\n",
       " (135028, 2214666, 'La Virreina'),\n",
       " (135032, 2215248, 'Cafeteria y Restaurant El Pacifico'),\n",
       " (135043, 2218576, 'pizza clasica'),\n",
       " (135049, 2213501, 'Restaurante de Mariscos la Langosta'),\n",
       " (135058, 2216559, 'Restaurante Tiberius'),\n",
       " (135062, 221537, 'Restaurante El Cielo Potosino'),\n",
       " (135072, 2214919, 'Sushi Itto'),\n",
       " (135073, 2214718, 'Restaurante Bar El Gallinero'),\n",
       " (135075, 2213957, 'Mariscos El Pescador'),\n",
       " (135085, 221508, 'Tortas Locas Hipocampo'),\n",
       " (135088, 1887601, 'Cafeteria cenidet'),\n",
       " (135109, 1892178, 'Paniroles')]"
      ]
     },
     "execution_count": 50,
     "metadata": {},
     "output_type": "execute_result"
    }
   ],
   "source": [
    "%sql select * from restoran;"
   ]
  },
  {
   "cell_type": "code",
   "execution_count": 51,
   "id": "76345db1",
   "metadata": {},
   "outputs": [
    {
     "name": "stdout",
     "output_type": "stream",
     "text": [
      " * mysql+mysqldb://root@localhost\n",
      "30 rows affected.\n"
     ]
    },
    {
     "data": {
      "text/html": [
       "<table>\n",
       "    <thead>\n",
       "        <tr>\n",
       "            <th>userID</th>\n",
       "            <th>PlaceID</th>\n",
       "            <th>rating</th>\n",
       "        </tr>\n",
       "    </thead>\n",
       "    <tbody>\n",
       "        <tr>\n",
       "            <td>U1001</td>\n",
       "            <td>134996</td>\n",
       "            <td>2</td>\n",
       "        </tr>\n",
       "        <tr>\n",
       "            <td>U1002</td>\n",
       "            <td>132755</td>\n",
       "            <td>2</td>\n",
       "        </tr>\n",
       "        <tr>\n",
       "            <td>U1003</td>\n",
       "            <td>135043</td>\n",
       "            <td>2</td>\n",
       "        </tr>\n",
       "        <tr>\n",
       "            <td>U1004</td>\n",
       "            <td>132654</td>\n",
       "            <td>1</td>\n",
       "        </tr>\n",
       "        <tr>\n",
       "            <td>U1005</td>\n",
       "            <td>135049</td>\n",
       "            <td>1</td>\n",
       "        </tr>\n",
       "        <tr>\n",
       "            <td>U1006</td>\n",
       "            <td>135073</td>\n",
       "            <td>0</td>\n",
       "        </tr>\n",
       "        <tr>\n",
       "            <td>U1007</td>\n",
       "            <td>132560</td>\n",
       "            <td>1</td>\n",
       "        </tr>\n",
       "        <tr>\n",
       "            <td>U1008</td>\n",
       "            <td>134976</td>\n",
       "            <td>0</td>\n",
       "        </tr>\n",
       "        <tr>\n",
       "            <td>U1009</td>\n",
       "            <td>135075</td>\n",
       "            <td>1</td>\n",
       "        </tr>\n",
       "        <tr>\n",
       "            <td>U1010</td>\n",
       "            <td>132660</td>\n",
       "            <td>2</td>\n",
       "        </tr>\n",
       "        <tr>\n",
       "            <td>U1011</td>\n",
       "            <td>132921</td>\n",
       "            <td>1</td>\n",
       "        </tr>\n",
       "        <tr>\n",
       "            <td>U1012</td>\n",
       "            <td>132594</td>\n",
       "            <td>1</td>\n",
       "        </tr>\n",
       "        <tr>\n",
       "            <td>U1013</td>\n",
       "            <td>134986</td>\n",
       "            <td>1</td>\n",
       "        </tr>\n",
       "        <tr>\n",
       "            <td>U1014</td>\n",
       "            <td>135062</td>\n",
       "            <td>0</td>\n",
       "        </tr>\n",
       "        <tr>\n",
       "            <td>U1015</td>\n",
       "            <td>132766</td>\n",
       "            <td>1</td>\n",
       "        </tr>\n",
       "        <tr>\n",
       "            <td>U1016</td>\n",
       "            <td>135088</td>\n",
       "            <td>1</td>\n",
       "        </tr>\n",
       "        <tr>\n",
       "            <td>U1017</td>\n",
       "            <td>135058</td>\n",
       "            <td>0</td>\n",
       "        </tr>\n",
       "        <tr>\n",
       "            <td>U1018</td>\n",
       "            <td>132754</td>\n",
       "            <td>1</td>\n",
       "        </tr>\n",
       "        <tr>\n",
       "            <td>U1019</td>\n",
       "            <td>132584</td>\n",
       "            <td>2</td>\n",
       "        </tr>\n",
       "        <tr>\n",
       "            <td>U1020</td>\n",
       "            <td>135032</td>\n",
       "            <td>1</td>\n",
       "        </tr>\n",
       "        <tr>\n",
       "            <td>U1021</td>\n",
       "            <td>135028</td>\n",
       "            <td>1</td>\n",
       "        </tr>\n",
       "        <tr>\n",
       "            <td>U1022</td>\n",
       "            <td>135085</td>\n",
       "            <td>1</td>\n",
       "        </tr>\n",
       "        <tr>\n",
       "            <td>U1023</td>\n",
       "            <td>132663</td>\n",
       "            <td>2</td>\n",
       "        </tr>\n",
       "        <tr>\n",
       "            <td>U1024</td>\n",
       "            <td>132626</td>\n",
       "            <td>2</td>\n",
       "        </tr>\n",
       "        <tr>\n",
       "            <td>U1025</td>\n",
       "            <td>132583</td>\n",
       "            <td>2</td>\n",
       "        </tr>\n",
       "        <tr>\n",
       "            <td>U1026</td>\n",
       "            <td>132866</td>\n",
       "            <td>2</td>\n",
       "        </tr>\n",
       "        <tr>\n",
       "            <td>U1027</td>\n",
       "            <td>135072</td>\n",
       "            <td>2</td>\n",
       "        </tr>\n",
       "        <tr>\n",
       "            <td>U1028</td>\n",
       "            <td>135109</td>\n",
       "            <td>1</td>\n",
       "        </tr>\n",
       "        <tr>\n",
       "            <td>U1029</td>\n",
       "            <td>135019</td>\n",
       "            <td>2</td>\n",
       "        </tr>\n",
       "        <tr>\n",
       "            <td>U1030</td>\n",
       "            <td>132877</td>\n",
       "            <td>1</td>\n",
       "        </tr>\n",
       "    </tbody>\n",
       "</table>"
      ],
      "text/plain": [
       "[('U1001', 134996, 2),\n",
       " ('U1002', 132755, 2),\n",
       " ('U1003', 135043, 2),\n",
       " ('U1004', 132654, 1),\n",
       " ('U1005', 135049, 1),\n",
       " ('U1006', 135073, 0),\n",
       " ('U1007', 132560, 1),\n",
       " ('U1008', 134976, 0),\n",
       " ('U1009', 135075, 1),\n",
       " ('U1010', 132660, 2),\n",
       " ('U1011', 132921, 1),\n",
       " ('U1012', 132594, 1),\n",
       " ('U1013', 134986, 1),\n",
       " ('U1014', 135062, 0),\n",
       " ('U1015', 132766, 1),\n",
       " ('U1016', 135088, 1),\n",
       " ('U1017', 135058, 0),\n",
       " ('U1018', 132754, 1),\n",
       " ('U1019', 132584, 2),\n",
       " ('U1020', 135032, 1),\n",
       " ('U1021', 135028, 1),\n",
       " ('U1022', 135085, 1),\n",
       " ('U1023', 132663, 2),\n",
       " ('U1024', 132626, 2),\n",
       " ('U1025', 132583, 2),\n",
       " ('U1026', 132866, 2),\n",
       " ('U1027', 135072, 2),\n",
       " ('U1028', 135109, 1),\n",
       " ('U1029', 135019, 2),\n",
       " ('U1030', 132877, 1)]"
      ]
     },
     "execution_count": 51,
     "metadata": {},
     "output_type": "execute_result"
    }
   ],
   "source": [
    "%sql select * from rating;"
   ]
  },
  {
   "cell_type": "code",
   "execution_count": 53,
   "id": "f462db5f",
   "metadata": {},
   "outputs": [
    {
     "name": "stdout",
     "output_type": "stream",
     "text": [
      " * mysql+mysqldb://root@localhost\n",
      "10 rows affected.\n"
     ]
    },
    {
     "data": {
      "text/html": [
       "<table>\n",
       "    <thead>\n",
       "        <tr>\n",
       "            <th>userID</th>\n",
       "            <th>drink_level</th>\n",
       "            <th>personality</th>\n",
       "            <th>budget</th>\n",
       "        </tr>\n",
       "    </thead>\n",
       "    <tbody>\n",
       "        <tr>\n",
       "            <td>U1001</td>\n",
       "            <td>abstemious</td>\n",
       "            <td>thrifty-protector</td>\n",
       "            <td>medium</td>\n",
       "        </tr>\n",
       "        <tr>\n",
       "            <td>U1002</td>\n",
       "            <td>abstemious</td>\n",
       "            <td>hunter-ostentatious</td>\n",
       "            <td>low</td>\n",
       "        </tr>\n",
       "        <tr>\n",
       "            <td>U1003</td>\n",
       "            <td>social drinker</td>\n",
       "            <td>hard-worker</td>\n",
       "            <td>low</td>\n",
       "        </tr>\n",
       "        <tr>\n",
       "            <td>U1004</td>\n",
       "            <td>abstemious</td>\n",
       "            <td>hard-worker</td>\n",
       "            <td>medium</td>\n",
       "        </tr>\n",
       "        <tr>\n",
       "            <td>U1005</td>\n",
       "            <td>abstemious</td>\n",
       "            <td>thrifty-protector</td>\n",
       "            <td>medium</td>\n",
       "        </tr>\n",
       "        <tr>\n",
       "            <td>U1006</td>\n",
       "            <td>social drinker</td>\n",
       "            <td>hard-worker</td>\n",
       "            <td>medium</td>\n",
       "        </tr>\n",
       "        <tr>\n",
       "            <td>U1007</td>\n",
       "            <td>casual drinker</td>\n",
       "            <td>thrifty-protector</td>\n",
       "            <td>low</td>\n",
       "        </tr>\n",
       "        <tr>\n",
       "            <td>U1008</td>\n",
       "            <td>social drinker</td>\n",
       "            <td>hard-worker</td>\n",
       "            <td>low</td>\n",
       "        </tr>\n",
       "        <tr>\n",
       "            <td>U1009</td>\n",
       "            <td>abstemious</td>\n",
       "            <td>thrifty-protector</td>\n",
       "            <td>medium</td>\n",
       "        </tr>\n",
       "        <tr>\n",
       "            <td>U1010</td>\n",
       "            <td>social drinker</td>\n",
       "            <td>hard-worker</td>\n",
       "            <td>medium</td>\n",
       "        </tr>\n",
       "    </tbody>\n",
       "</table>"
      ],
      "text/plain": [
       "[('U1001', 'abstemious', 'thrifty-protector', 'medium'),\n",
       " ('U1002', 'abstemious', 'hunter-ostentatious', 'low'),\n",
       " ('U1003', 'social drinker', 'hard-worker', 'low'),\n",
       " ('U1004', 'abstemious', 'hard-worker', 'medium'),\n",
       " ('U1005', 'abstemious', 'thrifty-protector', 'medium'),\n",
       " ('U1006', 'social drinker', 'hard-worker', 'medium'),\n",
       " ('U1007', 'casual drinker', 'thrifty-protector', 'low'),\n",
       " ('U1008', 'social drinker', 'hard-worker', 'low'),\n",
       " ('U1009', 'abstemious', 'thrifty-protector', 'medium'),\n",
       " ('U1010', 'social drinker', 'hard-worker', 'medium')]"
      ]
     },
     "execution_count": 53,
     "metadata": {},
     "output_type": "execute_result"
    }
   ],
   "source": [
    "%sql select * from pelanggan limit 10;"
   ]
  },
  {
   "cell_type": "code",
   "execution_count": 66,
   "id": "98939cf9",
   "metadata": {
    "scrolled": true
   },
   "outputs": [
    {
     "name": "stdout",
     "output_type": "stream",
     "text": [
      " * mysql+mysqldb://root@localhost\n",
      "10 rows affected.\n"
     ]
    },
    {
     "data": {
      "text/html": [
       "<table>\n",
       "    <thead>\n",
       "        <tr>\n",
       "            <th>userID</th>\n",
       "            <th>Name_Place</th>\n",
       "            <th>rating</th>\n",
       "        </tr>\n",
       "    </thead>\n",
       "    <tbody>\n",
       "        <tr>\n",
       "            <td>U1001</td>\n",
       "            <td>Sanborns Casa Piedra</td>\n",
       "            <td>2</td>\n",
       "        </tr>\n",
       "        <tr>\n",
       "            <td>U1002</td>\n",
       "            <td>La Estrella de Dimas</td>\n",
       "            <td>2</td>\n",
       "        </tr>\n",
       "        <tr>\n",
       "            <td>U1003</td>\n",
       "            <td>pizza clasica</td>\n",
       "            <td>2</td>\n",
       "        </tr>\n",
       "        <tr>\n",
       "            <td>U1004</td>\n",
       "            <td>Carnitas Mata Calle 16 de Septiembre</td>\n",
       "            <td>1</td>\n",
       "        </tr>\n",
       "        <tr>\n",
       "            <td>U1005</td>\n",
       "            <td>Restaurante de Mariscos la Langosta</td>\n",
       "            <td>1</td>\n",
       "        </tr>\n",
       "        <tr>\n",
       "            <td>U1006</td>\n",
       "            <td>Restaurante Bar El Gallinero</td>\n",
       "            <td>0</td>\n",
       "        </tr>\n",
       "        <tr>\n",
       "            <td>U1007</td>\n",
       "            <td>puesto de gorditas</td>\n",
       "            <td>1</td>\n",
       "        </tr>\n",
       "        <tr>\n",
       "            <td>U1008</td>\n",
       "            <td>Log Yin</td>\n",
       "            <td>0</td>\n",
       "        </tr>\n",
       "        <tr>\n",
       "            <td>U1009</td>\n",
       "            <td>Mariscos El Pescador</td>\n",
       "            <td>1</td>\n",
       "        </tr>\n",
       "        <tr>\n",
       "            <td>U1010</td>\n",
       "            <td>carnitas mata calle Emilio Portes Gil</td>\n",
       "            <td>2</td>\n",
       "        </tr>\n",
       "    </tbody>\n",
       "</table>"
      ],
      "text/plain": [
       "[('U1001', 'Sanborns Casa Piedra', 2),\n",
       " ('U1002', 'La Estrella de Dimas', 2),\n",
       " ('U1003', 'pizza clasica', 2),\n",
       " ('U1004', 'Carnitas Mata Calle 16 de Septiembre', 1),\n",
       " ('U1005', 'Restaurante de Mariscos la Langosta', 1),\n",
       " ('U1006', 'Restaurante Bar El Gallinero', 0),\n",
       " ('U1007', 'puesto de gorditas', 1),\n",
       " ('U1008', 'Log Yin', 0),\n",
       " ('U1009', 'Mariscos El Pescador', 1),\n",
       " ('U1010', 'carnitas mata calle Emilio Portes Gil', 2)]"
      ]
     },
     "execution_count": 66,
     "metadata": {},
     "output_type": "execute_result"
    }
   ],
   "source": [
    "%sql SELECT pelanggan.userID, restoran.Name_Place, rating.rating \n",
    "FROM pelanggan JOIN rating ON pelanggan.userID = rating.userID  JOIN restoran ON rating.PlaceID = restoran.PlaceID limit 10;\n",
    "\n"
   ]
  },
  {
   "cell_type": "code",
   "execution_count": null,
   "id": "2a34150c",
   "metadata": {},
   "outputs": [],
   "source": []
  },
  {
   "cell_type": "code",
   "execution_count": 68,
   "id": "9a36056a",
   "metadata": {},
   "outputs": [
    {
     "name": "stdout",
     "output_type": "stream",
     "text": [
      " * mysql+mysqldb://root@localhost\n",
      "30 rows affected.\n"
     ]
    },
    {
     "data": {
      "text/plain": [
       "[]"
      ]
     },
     "execution_count": 68,
     "metadata": {},
     "output_type": "execute_result"
    }
   ],
   "source": [
    "%sql alter table restoran modify column Latitude BIGINT  not null;"
   ]
  },
  {
   "cell_type": "code",
   "execution_count": 69,
   "id": "efa5868e",
   "metadata": {},
   "outputs": [
    {
     "name": "stdout",
     "output_type": "stream",
     "text": [
      " * mysql+mysqldb://root@localhost\n",
      "3 rows affected.\n"
     ]
    },
    {
     "data": {
      "text/html": [
       "<table>\n",
       "    <thead>\n",
       "        <tr>\n",
       "            <th>Field</th>\n",
       "            <th>Type</th>\n",
       "            <th>Null</th>\n",
       "            <th>Key</th>\n",
       "            <th>Default</th>\n",
       "            <th>Extra</th>\n",
       "        </tr>\n",
       "    </thead>\n",
       "    <tbody>\n",
       "        <tr>\n",
       "            <td>PlaceID</td>\n",
       "            <td>int(20)</td>\n",
       "            <td>NO</td>\n",
       "            <td>PRI</td>\n",
       "            <td>None</td>\n",
       "            <td></td>\n",
       "        </tr>\n",
       "        <tr>\n",
       "            <td>Latitude</td>\n",
       "            <td>bigint(20)</td>\n",
       "            <td>NO</td>\n",
       "            <td></td>\n",
       "            <td>None</td>\n",
       "            <td></td>\n",
       "        </tr>\n",
       "        <tr>\n",
       "            <td>Name_Place</td>\n",
       "            <td>varchar(100)</td>\n",
       "            <td>NO</td>\n",
       "            <td></td>\n",
       "            <td>None</td>\n",
       "            <td></td>\n",
       "        </tr>\n",
       "    </tbody>\n",
       "</table>"
      ],
      "text/plain": [
       "[('PlaceID', 'int(20)', 'NO', 'PRI', None, ''),\n",
       " ('Latitude', 'bigint(20)', 'NO', '', None, ''),\n",
       " ('Name_Place', 'varchar(100)', 'NO', '', None, '')]"
      ]
     },
     "execution_count": 69,
     "metadata": {},
     "output_type": "execute_result"
    }
   ],
   "source": [
    "%sql desc restoran;"
   ]
  },
  {
   "cell_type": "code",
   "execution_count": 73,
   "id": "87223460",
   "metadata": {},
   "outputs": [
    {
     "name": "stdout",
     "output_type": "stream",
     "text": [
      " * mysql+mysqldb://root@localhost\n",
      "3 rows affected.\n"
     ]
    },
    {
     "data": {
      "text/html": [
       "<table>\n",
       "    <thead>\n",
       "        <tr>\n",
       "            <th>Total Pelanggan</th>\n",
       "            <th>drink_level</th>\n",
       "        </tr>\n",
       "    </thead>\n",
       "    <tbody>\n",
       "        <tr>\n",
       "            <td>12</td>\n",
       "            <td>abstemious</td>\n",
       "        </tr>\n",
       "        <tr>\n",
       "            <td>9</td>\n",
       "            <td>casual drinker</td>\n",
       "        </tr>\n",
       "        <tr>\n",
       "            <td>9</td>\n",
       "            <td>social drinker</td>\n",
       "        </tr>\n",
       "    </tbody>\n",
       "</table>"
      ],
      "text/plain": [
       "[(12, 'abstemious'), (9, 'casual drinker'), (9, 'social drinker')]"
      ]
     },
     "execution_count": 73,
     "metadata": {},
     "output_type": "execute_result"
    }
   ],
   "source": [
    "%sql SELECT COUNT(userID) AS 'Total Pelanggan', drink_level FROM pelanggan GROUP BY drink_level;"
   ]
  },
  {
   "cell_type": "code",
   "execution_count": 74,
   "id": "a918b0f5",
   "metadata": {
    "scrolled": true
   },
   "outputs": [
    {
     "name": "stdout",
     "output_type": "stream",
     "text": [
      " * mysql+mysqldb://root@localhost\n",
      "4 rows affected.\n"
     ]
    },
    {
     "data": {
      "text/html": [
       "<table>\n",
       "    <thead>\n",
       "        <tr>\n",
       "            <th>Total Pelanggan</th>\n",
       "            <th>personality</th>\n",
       "        </tr>\n",
       "    </thead>\n",
       "    <tbody>\n",
       "        <tr>\n",
       "            <td>1</td>\n",
       "            <td>conformist</td>\n",
       "        </tr>\n",
       "        <tr>\n",
       "            <td>15</td>\n",
       "            <td>hard-worker</td>\n",
       "        </tr>\n",
       "        <tr>\n",
       "            <td>3</td>\n",
       "            <td>hunter-ostentatious</td>\n",
       "        </tr>\n",
       "        <tr>\n",
       "            <td>11</td>\n",
       "            <td>thrifty-protector</td>\n",
       "        </tr>\n",
       "    </tbody>\n",
       "</table>"
      ],
      "text/plain": [
       "[(1, 'conformist'),\n",
       " (15, 'hard-worker'),\n",
       " (3, 'hunter-ostentatious'),\n",
       " (11, 'thrifty-protector')]"
      ]
     },
     "execution_count": 74,
     "metadata": {},
     "output_type": "execute_result"
    }
   ],
   "source": [
    "%sql SELECT COUNT(userID) AS 'Total Pelanggan', personality FROM pelanggan GROUP BY personality;"
   ]
  },
  {
   "cell_type": "code",
   "execution_count": 75,
   "id": "5d2bff29",
   "metadata": {},
   "outputs": [
    {
     "name": "stdout",
     "output_type": "stream",
     "text": [
      " * mysql+mysqldb://root@localhost\n",
      "2 rows affected.\n"
     ]
    },
    {
     "data": {
      "text/html": [
       "<table>\n",
       "    <thead>\n",
       "        <tr>\n",
       "            <th>Total Pelanggan</th>\n",
       "            <th>budget</th>\n",
       "        </tr>\n",
       "    </thead>\n",
       "    <tbody>\n",
       "        <tr>\n",
       "            <td>9</td>\n",
       "            <td>low</td>\n",
       "        </tr>\n",
       "        <tr>\n",
       "            <td>21</td>\n",
       "            <td>medium</td>\n",
       "        </tr>\n",
       "    </tbody>\n",
       "</table>"
      ],
      "text/plain": [
       "[(9, 'low'), (21, 'medium')]"
      ]
     },
     "execution_count": 75,
     "metadata": {},
     "output_type": "execute_result"
    }
   ],
   "source": [
    "%sql SELECT COUNT(userID) AS 'Total Pelanggan', budget FROM pelanggan GROUP BY budget;"
   ]
  },
  {
   "cell_type": "code",
   "execution_count": 80,
   "id": "3f05fb2d",
   "metadata": {
    "scrolled": true
   },
   "outputs": [
    {
     "name": "stdout",
     "output_type": "stream",
     "text": [
      " * mysql+mysqldb://root@localhost\n",
      "10 rows affected.\n"
     ]
    },
    {
     "data": {
      "text/html": [
       "<table>\n",
       "    <thead>\n",
       "        <tr>\n",
       "            <th>userID</th>\n",
       "            <th>drink_level</th>\n",
       "            <th>personality</th>\n",
       "            <th>budget</th>\n",
       "            <th>Name_Place</th>\n",
       "            <th>userID_1</th>\n",
       "            <th>PlaceID</th>\n",
       "        </tr>\n",
       "    </thead>\n",
       "    <tbody>\n",
       "        <tr>\n",
       "            <td>U1001</td>\n",
       "            <td>abstemious</td>\n",
       "            <td>thrifty-protector</td>\n",
       "            <td>medium</td>\n",
       "            <td>Sanborns Casa Piedra</td>\n",
       "            <td>U1001</td>\n",
       "            <td>134996</td>\n",
       "        </tr>\n",
       "        <tr>\n",
       "            <td>U1002</td>\n",
       "            <td>abstemious</td>\n",
       "            <td>hunter-ostentatious</td>\n",
       "            <td>low</td>\n",
       "            <td>La Estrella de Dimas</td>\n",
       "            <td>U1002</td>\n",
       "            <td>132755</td>\n",
       "        </tr>\n",
       "        <tr>\n",
       "            <td>U1003</td>\n",
       "            <td>social drinker</td>\n",
       "            <td>hard-worker</td>\n",
       "            <td>low</td>\n",
       "            <td>pizza clasica</td>\n",
       "            <td>U1003</td>\n",
       "            <td>135043</td>\n",
       "        </tr>\n",
       "        <tr>\n",
       "            <td>U1004</td>\n",
       "            <td>abstemious</td>\n",
       "            <td>hard-worker</td>\n",
       "            <td>medium</td>\n",
       "            <td>Carnitas Mata Calle 16 de Septiembre</td>\n",
       "            <td>U1004</td>\n",
       "            <td>132654</td>\n",
       "        </tr>\n",
       "        <tr>\n",
       "            <td>U1005</td>\n",
       "            <td>abstemious</td>\n",
       "            <td>thrifty-protector</td>\n",
       "            <td>medium</td>\n",
       "            <td>Restaurante de Mariscos la Langosta</td>\n",
       "            <td>U1005</td>\n",
       "            <td>135049</td>\n",
       "        </tr>\n",
       "        <tr>\n",
       "            <td>U1006</td>\n",
       "            <td>social drinker</td>\n",
       "            <td>hard-worker</td>\n",
       "            <td>medium</td>\n",
       "            <td>Restaurante Bar El Gallinero</td>\n",
       "            <td>U1006</td>\n",
       "            <td>135073</td>\n",
       "        </tr>\n",
       "        <tr>\n",
       "            <td>U1007</td>\n",
       "            <td>casual drinker</td>\n",
       "            <td>thrifty-protector</td>\n",
       "            <td>low</td>\n",
       "            <td>puesto de gorditas</td>\n",
       "            <td>U1007</td>\n",
       "            <td>132560</td>\n",
       "        </tr>\n",
       "        <tr>\n",
       "            <td>U1008</td>\n",
       "            <td>social drinker</td>\n",
       "            <td>hard-worker</td>\n",
       "            <td>low</td>\n",
       "            <td>Log Yin</td>\n",
       "            <td>U1008</td>\n",
       "            <td>134976</td>\n",
       "        </tr>\n",
       "        <tr>\n",
       "            <td>U1009</td>\n",
       "            <td>abstemious</td>\n",
       "            <td>thrifty-protector</td>\n",
       "            <td>medium</td>\n",
       "            <td>Mariscos El Pescador</td>\n",
       "            <td>U1009</td>\n",
       "            <td>135075</td>\n",
       "        </tr>\n",
       "        <tr>\n",
       "            <td>U1010</td>\n",
       "            <td>social drinker</td>\n",
       "            <td>hard-worker</td>\n",
       "            <td>medium</td>\n",
       "            <td>carnitas mata calle Emilio Portes Gil</td>\n",
       "            <td>U1010</td>\n",
       "            <td>132660</td>\n",
       "        </tr>\n",
       "    </tbody>\n",
       "</table>"
      ],
      "text/plain": [
       "[('U1001', 'abstemious', 'thrifty-protector', 'medium', 'Sanborns Casa Piedra', 'U1001', 134996),\n",
       " ('U1002', 'abstemious', 'hunter-ostentatious', 'low', 'La Estrella de Dimas', 'U1002', 132755),\n",
       " ('U1003', 'social drinker', 'hard-worker', 'low', 'pizza clasica', 'U1003', 135043),\n",
       " ('U1004', 'abstemious', 'hard-worker', 'medium', 'Carnitas Mata Calle 16 de Septiembre', 'U1004', 132654),\n",
       " ('U1005', 'abstemious', 'thrifty-protector', 'medium', 'Restaurante de Mariscos la Langosta', 'U1005', 135049),\n",
       " ('U1006', 'social drinker', 'hard-worker', 'medium', 'Restaurante Bar El Gallinero', 'U1006', 135073),\n",
       " ('U1007', 'casual drinker', 'thrifty-protector', 'low', 'puesto de gorditas', 'U1007', 132560),\n",
       " ('U1008', 'social drinker', 'hard-worker', 'low', 'Log Yin', 'U1008', 134976),\n",
       " ('U1009', 'abstemious', 'thrifty-protector', 'medium', 'Mariscos El Pescador', 'U1009', 135075),\n",
       " ('U1010', 'social drinker', 'hard-worker', 'medium', 'carnitas mata calle Emilio Portes Gil', 'U1010', 132660)]"
      ]
     },
     "execution_count": 80,
     "metadata": {},
     "output_type": "execute_result"
    }
   ],
   "source": [
    "%sql SELECT pelanggan.*, restoran.Name_Place, rating.userID, rating.PlaceID FROM pelanggan \n",
    "JOIN rating ON pelanggan.userID = rating.userID JOIN restoran ON rating.PlaceID = restoran.PlaceID limit 10;\n",
    "\n"
   ]
  },
  {
   "cell_type": "code",
   "execution_count": 89,
   "id": "a99e719c",
   "metadata": {},
   "outputs": [
    {
     "name": "stdout",
     "output_type": "stream",
     "text": [
      " * mysql+mysqldb://root@localhost\n",
      "3 rows affected.\n"
     ]
    },
    {
     "data": {
      "text/html": [
       "<table>\n",
       "    <thead>\n",
       "        <tr>\n",
       "            <th>Total Tempat</th>\n",
       "            <th>rating</th>\n",
       "        </tr>\n",
       "    </thead>\n",
       "    <tbody>\n",
       "        <tr>\n",
       "            <td>4</td>\n",
       "            <td>0</td>\n",
       "        </tr>\n",
       "        <tr>\n",
       "            <td>15</td>\n",
       "            <td>1</td>\n",
       "        </tr>\n",
       "        <tr>\n",
       "            <td>11</td>\n",
       "            <td>2</td>\n",
       "        </tr>\n",
       "    </tbody>\n",
       "</table>"
      ],
      "text/plain": [
       "[(4, 0), (15, 1), (11, 2)]"
      ]
     },
     "execution_count": 89,
     "metadata": {},
     "output_type": "execute_result"
    }
   ],
   "source": [
    "%sql SELECT COUNT(PlaceID) AS 'Total Tempat', rating FROM rating GROUP BY rating;\n"
   ]
  },
  {
   "cell_type": "code",
   "execution_count": 90,
   "id": "acbc02ad",
   "metadata": {},
   "outputs": [
    {
     "name": "stdout",
     "output_type": "stream",
     "text": [
      " * mysql+mysqldb://root@localhost\n",
      "7 rows affected.\n"
     ]
    },
    {
     "data": {
      "text/html": [
       "<table>\n",
       "    <thead>\n",
       "        <tr>\n",
       "            <th>PlaceID</th>\n",
       "            <th>Latitude</th>\n",
       "            <th>Name_Place</th>\n",
       "        </tr>\n",
       "    </thead>\n",
       "    <tbody>\n",
       "        <tr>\n",
       "            <td>132654</td>\n",
       "            <td>2373552</td>\n",
       "            <td>Carnitas Mata Calle 16 de Septiembre</td>\n",
       "        </tr>\n",
       "        <tr>\n",
       "            <td>132660</td>\n",
       "            <td>2375294</td>\n",
       "            <td>carnitas mata calle Emilio Portes Gil</td>\n",
       "        </tr>\n",
       "        <tr>\n",
       "            <td>132754</td>\n",
       "            <td>2214774</td>\n",
       "            <td>Cabana Huasteca</td>\n",
       "        </tr>\n",
       "        <tr>\n",
       "            <td>132866</td>\n",
       "            <td>2214122</td>\n",
       "            <td>Chaires</td>\n",
       "        </tr>\n",
       "        <tr>\n",
       "            <td>132921</td>\n",
       "            <td>2215031</td>\n",
       "            <td>crudalia</td>\n",
       "        </tr>\n",
       "        <tr>\n",
       "            <td>135032</td>\n",
       "            <td>2215248</td>\n",
       "            <td>Cafeteria y Restaurant El Pacifico</td>\n",
       "        </tr>\n",
       "        <tr>\n",
       "            <td>135088</td>\n",
       "            <td>1887601</td>\n",
       "            <td>Cafeteria cenidet</td>\n",
       "        </tr>\n",
       "    </tbody>\n",
       "</table>"
      ],
      "text/plain": [
       "[(132654, 2373552, 'Carnitas Mata Calle 16 de Septiembre'),\n",
       " (132660, 2375294, 'carnitas mata calle Emilio Portes Gil'),\n",
       " (132754, 2214774, 'Cabana Huasteca'),\n",
       " (132866, 2214122, 'Chaires'),\n",
       " (132921, 2215031, 'crudalia'),\n",
       " (135032, 2215248, 'Cafeteria y Restaurant El Pacifico'),\n",
       " (135088, 1887601, 'Cafeteria cenidet')]"
      ]
     },
     "execution_count": 90,
     "metadata": {},
     "output_type": "execute_result"
    }
   ],
   "source": [
    "%sql SELECT * FROM restoran WHERE Name_Place LIKE 'c%';"
   ]
  },
  {
   "cell_type": "code",
   "execution_count": 92,
   "id": "4a3e1e04",
   "metadata": {},
   "outputs": [
    {
     "name": "stdout",
     "output_type": "stream",
     "text": [
      " * mysql+mysqldb://root@localhost\n",
      "10 rows affected.\n"
     ]
    },
    {
     "data": {
      "text/html": [
       "<table>\n",
       "    <thead>\n",
       "        <tr>\n",
       "            <th>budget</th>\n",
       "            <th>Name_Place</th>\n",
       "            <th>rating</th>\n",
       "        </tr>\n",
       "    </thead>\n",
       "    <tbody>\n",
       "        <tr>\n",
       "            <td>medium</td>\n",
       "            <td>Sanborns Casa Piedra</td>\n",
       "            <td>2</td>\n",
       "        </tr>\n",
       "        <tr>\n",
       "            <td>low</td>\n",
       "            <td>La Estrella de Dimas</td>\n",
       "            <td>2</td>\n",
       "        </tr>\n",
       "        <tr>\n",
       "            <td>low</td>\n",
       "            <td>pizza clasica</td>\n",
       "            <td>2</td>\n",
       "        </tr>\n",
       "        <tr>\n",
       "            <td>medium</td>\n",
       "            <td>Carnitas Mata Calle 16 de Septiembre</td>\n",
       "            <td>1</td>\n",
       "        </tr>\n",
       "        <tr>\n",
       "            <td>medium</td>\n",
       "            <td>Restaurante de Mariscos la Langosta</td>\n",
       "            <td>1</td>\n",
       "        </tr>\n",
       "        <tr>\n",
       "            <td>medium</td>\n",
       "            <td>Restaurante Bar El Gallinero</td>\n",
       "            <td>0</td>\n",
       "        </tr>\n",
       "        <tr>\n",
       "            <td>low</td>\n",
       "            <td>puesto de gorditas</td>\n",
       "            <td>1</td>\n",
       "        </tr>\n",
       "        <tr>\n",
       "            <td>low</td>\n",
       "            <td>Log Yin</td>\n",
       "            <td>0</td>\n",
       "        </tr>\n",
       "        <tr>\n",
       "            <td>medium</td>\n",
       "            <td>Mariscos El Pescador</td>\n",
       "            <td>1</td>\n",
       "        </tr>\n",
       "        <tr>\n",
       "            <td>medium</td>\n",
       "            <td>carnitas mata calle Emilio Portes Gil</td>\n",
       "            <td>2</td>\n",
       "        </tr>\n",
       "    </tbody>\n",
       "</table>"
      ],
      "text/plain": [
       "[('medium', 'Sanborns Casa Piedra', 2),\n",
       " ('low', 'La Estrella de Dimas', 2),\n",
       " ('low', 'pizza clasica', 2),\n",
       " ('medium', 'Carnitas Mata Calle 16 de Septiembre', 1),\n",
       " ('medium', 'Restaurante de Mariscos la Langosta', 1),\n",
       " ('medium', 'Restaurante Bar El Gallinero', 0),\n",
       " ('low', 'puesto de gorditas', 1),\n",
       " ('low', 'Log Yin', 0),\n",
       " ('medium', 'Mariscos El Pescador', 1),\n",
       " ('medium', 'carnitas mata calle Emilio Portes Gil', 2)]"
      ]
     },
     "execution_count": 92,
     "metadata": {},
     "output_type": "execute_result"
    }
   ],
   "source": [
    "%sql SELECT pelanggan.budget, restoran.Name_Place, rating.rating FROM pelanggan INNER JOIN rating ON pelanggan.userID = rating.userID INNER JOIN restoran ON rating.PlaceID = restoran.PlaceID limit 10;\n"
   ]
  },
  {
   "cell_type": "code",
   "execution_count": 104,
   "id": "5a2441ee",
   "metadata": {},
   "outputs": [
    {
     "name": "stdout",
     "output_type": "stream",
     "text": [
      " * mysql+mysqldb://root@localhost\n",
      "0 rows affected.\n"
     ]
    },
    {
     "data": {
      "text/plain": [
       "[]"
      ]
     },
     "execution_count": 104,
     "metadata": {},
     "output_type": "execute_result"
    }
   ],
   "source": [
    "#membuat hak user root\n",
    "%sql CREATE USER 'user_root'@'localhost';\n"
   ]
  },
  {
   "cell_type": "code",
   "execution_count": 107,
   "id": "d6cc2a17",
   "metadata": {},
   "outputs": [
    {
     "name": "stdout",
     "output_type": "stream",
     "text": [
      " * mysql+mysqldb://root@localhost\n",
      "0 rows affected.\n"
     ]
    },
    {
     "data": {
      "text/plain": [
       "[]"
      ]
     },
     "execution_count": 107,
     "metadata": {},
     "output_type": "execute_result"
    }
   ],
   "source": [
    "%sql GRANT ALL PRIVILEGES ON *.* TO 'user_root'@'localhost';"
   ]
  },
  {
   "cell_type": "code",
   "execution_count": 105,
   "id": "b7ea056b",
   "metadata": {},
   "outputs": [
    {
     "name": "stdout",
     "output_type": "stream",
     "text": [
      " * mysql+mysqldb://root@localhost\n",
      "0 rows affected.\n"
     ]
    },
    {
     "data": {
      "text/plain": [
       "[]"
      ]
     },
     "execution_count": 105,
     "metadata": {},
     "output_type": "execute_result"
    }
   ],
   "source": [
    "#membuat hak user_1\n",
    "%sql CREATE USER 'user_1'@'%';"
   ]
  },
  {
   "cell_type": "code",
   "execution_count": 109,
   "id": "a464cc31",
   "metadata": {},
   "outputs": [
    {
     "name": "stdout",
     "output_type": "stream",
     "text": [
      " * mysql+mysqldb://root@localhost\n",
      "0 rows affected.\n"
     ]
    },
    {
     "data": {
      "text/plain": [
       "[]"
      ]
     },
     "execution_count": 109,
     "metadata": {},
     "output_type": "execute_result"
    }
   ],
   "source": [
    "#tanpa hak akses update\n",
    "%sql GRANT SELECT, INSERT, DELETE, CREATE, DROP, ALTER ON *.* TO 'user_1'@'%';"
   ]
  },
  {
   "cell_type": "code",
   "execution_count": 106,
   "id": "78c4987d",
   "metadata": {},
   "outputs": [
    {
     "name": "stdout",
     "output_type": "stream",
     "text": [
      " * mysql+mysqldb://root@localhost\n",
      "0 rows affected.\n"
     ]
    },
    {
     "data": {
      "text/plain": [
       "[]"
      ]
     },
     "execution_count": 106,
     "metadata": {},
     "output_type": "execute_result"
    }
   ],
   "source": [
    "#membuat hak user_2\n",
    "%sql CREATE USER 'user_2'@'%';"
   ]
  },
  {
   "cell_type": "code",
   "execution_count": 110,
   "id": "f37898d9",
   "metadata": {},
   "outputs": [
    {
     "name": "stdout",
     "output_type": "stream",
     "text": [
      " * mysql+mysqldb://root@localhost\n",
      "0 rows affected.\n"
     ]
    },
    {
     "data": {
      "text/plain": [
       "[]"
      ]
     },
     "execution_count": 110,
     "metadata": {},
     "output_type": "execute_result"
    }
   ],
   "source": [
    "#tanpa hak akses create\n",
    "%sql GRANT SELECT, INSERT, UPDATE, DELETE, DROP, ALTER ON *.* TO 'user_2'@'%';"
   ]
  },
  {
   "cell_type": "code",
   "execution_count": 111,
   "id": "8812f4a1",
   "metadata": {},
   "outputs": [],
   "source": [
    "#backup file\n",
    "#c:\\xampp\\mysql\\bin>mysqldump.exe -u root -p tubes > kelompok05.sql #run di cmd as administrator"
   ]
  },
  {
   "cell_type": "code",
   "execution_count": null,
   "id": "45cd58f9",
   "metadata": {},
   "outputs": [],
   "source": []
  }
 ],
 "metadata": {
  "kernelspec": {
   "display_name": "Python 3 (ipykernel)",
   "language": "python",
   "name": "python3"
  },
  "language_info": {
   "codemirror_mode": {
    "name": "ipython",
    "version": 3
   },
   "file_extension": ".py",
   "mimetype": "text/x-python",
   "name": "python",
   "nbconvert_exporter": "python",
   "pygments_lexer": "ipython3",
   "version": "3.10.7"
  }
 },
 "nbformat": 4,
 "nbformat_minor": 5
}
